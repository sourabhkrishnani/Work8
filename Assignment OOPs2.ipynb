{
 "cells": [
  {
   "cell_type": "code",
   "execution_count": 1,
   "id": "9d3b5650-e470-4db7-af5e-dc51064672ce",
   "metadata": {},
   "outputs": [],
   "source": [
    "#Q1"
   ]
  },
  {
   "cell_type": "markdown",
   "id": "26198dc0-5945-4140-b8f4-30e633227f20",
   "metadata": {},
   "source": [
    "A class is a blueprint or template for creating objects. It defines the attributes (data members) and methods (functions) that objects of that class will have. Think of a class as a blueprint that describes the properties and behaviors an object will possess."
   ]
  },
  {
   "cell_type": "markdown",
   "id": "70a61b96-ddb3-47eb-abf4-a30bbf189a1a",
   "metadata": {},
   "source": [
    "An object is an instance of a class. It's a concrete entity created from the class blueprint. Each object has its own unique data, but it shares the same methods defined in the class. Objects represent the actual things or entities that you're trying to model in your code."
   ]
  },
  {
   "cell_type": "code",
   "execution_count": 1,
   "id": "5cf44270-e843-41c1-ab55-c6ebbfc5f10f",
   "metadata": {},
   "outputs": [
    {
     "name": "stdout",
     "output_type": "stream",
     "text": [
      "2022 Toyota Camry is now running.\n",
      "2023 Ford Mustang is now running.\n",
      "2022 Toyota Camry has been stopped.\n",
      "2023 Ford Mustang has been stopped.\n"
     ]
    }
   ],
   "source": [
    "class Car:\n",
    "    def __init__(self, make, model, year):\n",
    "        self.make = make\n",
    "        self.model = model\n",
    "        self.year = year\n",
    "        self.is_running = False\n",
    "    \n",
    "    def start(self):\n",
    "        self.is_running = True\n",
    "        print(f\"{self.year} {self.make} {self.model} is now running.\")\n",
    "    \n",
    "    def stop(self):\n",
    "        self.is_running = False\n",
    "        print(f\"{self.year} {self.make} {self.model} has been stopped.\")\n",
    "\n",
    "car1 = Car(\"Toyota\", \"Camry\", 2022)\n",
    "car2 = Car(\"Ford\", \"Mustang\", 2023)\n",
    "\n",
    "car1.start()  \n",
    "car2.start()  \n",
    "\n",
    "car1.stop()   \n",
    "car2.stop()   \n"
   ]
  },
  {
   "cell_type": "code",
   "execution_count": null,
   "id": "887c40e5-4a49-42f3-bdcb-54145052a461",
   "metadata": {},
   "outputs": [],
   "source": [
    "#Q2"
   ]
  },
  {
   "cell_type": "code",
   "execution_count": null,
   "id": "61483f61-da62-4a4f-aad1-fa6156e41cc0",
   "metadata": {},
   "outputs": [],
   "source": [
    "Q2. Name the four pillars of OOPs."
   ]
  },
  {
   "cell_type": "markdown",
   "id": "3f8030a3-77e8-4732-9d50-d63c9c100d4f",
   "metadata": {},
   "source": [
    "The four pillars of object-oriented programming (OOP) are:\n",
    "\n",
    "Encapsulation: Encapsulation is the concept of bundling data (attributes) and methods (functions) that operate on the data into a single unit called a class. It restricts direct access to some of the object's components and provides controlled access through methods. Encapsulation helps in hiding the internal implementation details and exposing only the necessary interfaces.\n",
    "\n",
    "Abstraction: Abstraction is the process of simplifying complex reality by modeling classes based on real-world entities and their behaviors. It involves creating a simplified representation of an object that hides the unnecessary details while exposing only the relevant aspects. Abstraction allows developers to focus on the essential features of an object and ignore the irrelevant complexities.\n",
    "\n",
    "Inheritance: Inheritance is a mechanism that allows a new class (subclass or derived class) to inherit properties and behaviors from an existing class (superclass or base class). Inheritance promotes code reusability by allowing new classes to be built upon existing classes. It establishes an \"is-a\" relationship between classes, where a subclass is a specialized version of its superclass.\n",
    "\n",
    "Polymorphism: Polymorphism allows objects of different classes to be treated as objects of a common superclass. It enables a single interface to be used for different data types or objects. There are two types of polymorphism: compile-time polymorphism (achieved through function overloading and operator overloading) and runtime polymorphism (achieved through method overriding)."
   ]
  },
  {
   "cell_type": "code",
   "execution_count": null,
   "id": "38997cdf-4b1a-4cbc-8b57-0c5a254829f1",
   "metadata": {},
   "outputs": [],
   "source": [
    "#Q3"
   ]
  },
  {
   "cell_type": "markdown",
   "id": "2cd1dd29-a21c-4358-86ea-b41a5661bfb0",
   "metadata": {},
   "source": [
    "The __init__() function, also known as a constructor, is a special method in Python classes that is automatically called when an object of the class is created. It initializes the attributes of the object by setting their initial values. The primary purpose of the __init__() function is to ensure that the object is created in a valid and consistent state, with all necessary attributes properly initialized."
   ]
  },
  {
   "cell_type": "code",
   "execution_count": 6,
   "id": "83be5a06-411a-4418-96f9-2f48bf4ed53c",
   "metadata": {},
   "outputs": [
    {
     "name": "stdout",
     "output_type": "stream",
     "text": [
      "Sourabh\n",
      "22\n"
     ]
    }
   ],
   "source": [
    "class Student:\n",
    "    def __init__(self, name, age):\n",
    "        self.name = name\n",
    "        self.age = age\n",
    "\n",
    "student1 = Student(\"Sourabh\", 20)\n",
    "student2 = Student(\"suyash\", 22)\n",
    "\n",
    "print(student1.name)  \n",
    "print(student2.age)   \n"
   ]
  },
  {
   "cell_type": "code",
   "execution_count": null,
   "id": "ed98702d-292f-4646-8981-9fbf328c46bc",
   "metadata": {},
   "outputs": [],
   "source": [
    "#Q4"
   ]
  },
  {
   "cell_type": "markdown",
   "id": "781d72de-7c6f-47c3-9b8e-284dd85916ff",
   "metadata": {},
   "source": [
    "In object-oriented programming (OOP), self is a convention used to refer to the instance of the class within its methods. It's a way for methods to access and manipulate the attributes and methods of the object that they're called on. self allows for clear distinction between instance variables and local variables within a class.\n",
    "\n",
    "Here's why self is used in OOP:\n",
    "\n",
    "Accessing Instance Attributes: When you create an object from a class, you can have attributes specific to that object. self allows methods within the class to access and manipulate these instance attributes. Without self, methods wouldn't know which object's attributes to work with.\n",
    "\n",
    "Method Calls: When a method is called on an object, the object itself should be aware of which instance it is. self helps identify the object that the method is being called on, ensuring that the correct instance's attributes and methods are accessed.\n",
    "\n",
    "Differentiating Local Variables: Within a method, you might have local variables that are only relevant within that method's scope. Using self helps differentiate between instance attributes (accessible throughout the object) and local variables (relevant only within the method)."
   ]
  },
  {
   "cell_type": "code",
   "execution_count": 7,
   "id": "e3d0b66b-08d3-4d93-a917-7ee85867ee72",
   "metadata": {},
   "outputs": [
    {
     "name": "stdout",
     "output_type": "stream",
     "text": [
      "Make: Toyota, Model: Camry\n"
     ]
    }
   ],
   "source": [
    "class Car:\n",
    "    def __init__(self, make, model):\n",
    "        self.make = make\n",
    "        self.model = model\n",
    "    \n",
    "    def display_info(self):\n",
    "        print(f\"Make: {self.make}, Model: {self.model}\")\n",
    "\n",
    "my_car = Car(\"Toyota\", \"Camry\")\n",
    "\n",
    "my_car.display_info()  \n"
   ]
  },
  {
   "cell_type": "code",
   "execution_count": null,
   "id": "2dffc074-ffeb-4dd6-a624-ccaf2a92eee7",
   "metadata": {},
   "outputs": [],
   "source": [
    "#Q5"
   ]
  },
  {
   "cell_type": "markdown",
   "id": "0deec6f2-3d7f-4835-abfe-bdd797f02f34",
   "metadata": {},
   "source": [
    "Inheritance is a fundamental concept in object-oriented programming (OOP) that allows a new class (subclass or derived class) to inherit properties and behaviors from an existing class (superclass or base class). Inheritance establishes a relationship between classes where a subclass inherits attributes and methods from its superclass. This promotes code reusability and allows for creating specialized classes based on existing ones.\n",
    "\n",
    "There are several types of inheritance, including:"
   ]
  },
  {
   "cell_type": "markdown",
   "id": "3318bd05-d100-4b79-b96d-9c2881fdabe3",
   "metadata": {},
   "source": [
    "Single Inheritance: In single inheritance, a subclass inherits from only one superclass. It's a simple form of inheritance where each subclass has only one direct parent class.\n",
    "Example:"
   ]
  },
  {
   "cell_type": "code",
   "execution_count": 9,
   "id": "9b5d4087-4e24-4e38-b0a5-655eea19149b",
   "metadata": {},
   "outputs": [],
   "source": [
    "class Animal:\n",
    "    def speak(self):\n",
    "        pass\n",
    "\n",
    "class Dog(Animal):\n",
    "    def speak(self):\n",
    "        return \"Woof!\"\n",
    "\n",
    "class Cat(Animal):\n",
    "    def speak(self):\n",
    "        return \"Meow!\"\n",
    "    \n",
    "my_dog = Dog\n"
   ]
  },
  {
   "cell_type": "markdown",
   "id": "547c26a0-9ab9-4627-915c-d5288b1857b9",
   "metadata": {},
   "source": [
    "Multiple Inheritance: In multiple inheritance, a subclass inherits from more than one superclass. This allows a subclass to combine attributes and behaviors from multiple parent classes."
   ]
  },
  {
   "cell_type": "code",
   "execution_count": 10,
   "id": "c725d13b-bd15-427c-ba94-faa556d3c3d4",
   "metadata": {},
   "outputs": [
    {
     "name": "stdout",
     "output_type": "stream",
     "text": [
      "Method A\n",
      "Method B\n"
     ]
    }
   ],
   "source": [
    "class A:\n",
    "    def method_a(self):\n",
    "        return \"Method A\"\n",
    "\n",
    "class B:\n",
    "    def method_b(self):\n",
    "        return \"Method B\"\n",
    "\n",
    "class C(A, B):\n",
    "    pass\n",
    "\n",
    "c = C()\n",
    "print(c.method_a())  \n",
    "print(c.method_b())  \n"
   ]
  },
  {
   "cell_type": "markdown",
   "id": "fafdf8c9-8c66-4cba-89e6-6cd93d033c5b",
   "metadata": {},
   "source": [
    "Multilevel Inheritance: In multilevel inheritance, classes are arranged in a hierarchy, where each class serves as both a subclass and a superclass. This creates a chain of inheritance"
   ]
  },
  {
   "cell_type": "code",
   "execution_count": 11,
   "id": "ee4452a6-c256-4e21-9da7-cb8121b47fd3",
   "metadata": {},
   "outputs": [
    {
     "name": "stdout",
     "output_type": "stream",
     "text": [
      "Grandparent method\n"
     ]
    }
   ],
   "source": [
    "class Grandparent:\n",
    "    def method(self):\n",
    "        return \"Grandparent method\"\n",
    "\n",
    "class Parent(Grandparent):\n",
    "    pass\n",
    "\n",
    "class Child(Parent):\n",
    "    pass\n",
    "\n",
    "child = Child()\n",
    "print(child.method())  \n"
   ]
  },
  {
   "cell_type": "markdown",
   "id": "8fc5dda1-10e7-4bb5-8359-c4c475746cc3",
   "metadata": {},
   "source": [
    "Hierarchical Inheritance: In hierarchical inheritance, multiple subclasses inherit from a single superclass. This creates a tree-like structure.\n",
    "Example:"
   ]
  },
  {
   "cell_type": "code",
   "execution_count": 13,
   "id": "c7d29691-371b-44e6-8a20-66b0f604c991",
   "metadata": {},
   "outputs": [
    {
     "name": "stdout",
     "output_type": "stream",
     "text": [
      "Driving car\n",
      "Riding bike\n"
     ]
    }
   ],
   "source": [
    "class Vehicle:\n",
    "    def drive(self):\n",
    "        return \"Driving vehicle\"\n",
    "\n",
    "class Car(Vehicle):\n",
    "    def drive(self):\n",
    "        return \"Driving car\"\n",
    "\n",
    "class Bike(Vehicle):\n",
    "    def drive(self):\n",
    "        return \"Riding bike\"\n",
    "\n",
    "car = Car()\n",
    "bike = Bike()\n",
    "\n",
    "print(car.drive())  \n",
    "print(bike.drive()) \n"
   ]
  },
  {
   "cell_type": "code",
   "execution_count": null,
   "id": "296621df-2748-430f-aa4d-326dfa7d3422",
   "metadata": {},
   "outputs": [],
   "source": []
  }
 ],
 "metadata": {
  "kernelspec": {
   "display_name": "Python 3 (ipykernel)",
   "language": "python",
   "name": "python3"
  },
  "language_info": {
   "codemirror_mode": {
    "name": "ipython",
    "version": 3
   },
   "file_extension": ".py",
   "mimetype": "text/x-python",
   "name": "python",
   "nbconvert_exporter": "python",
   "pygments_lexer": "ipython3",
   "version": "3.10.8"
  }
 },
 "nbformat": 4,
 "nbformat_minor": 5
}
